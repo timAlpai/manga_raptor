{
 "cells": [
  {
   "cell_type": "markdown",
   "metadata": {},
   "source": [
    "# Tutoriel manga creator\n",
    "## Raptor RAG avec streamlit langchain groq huggingface(embeddings) \n",
    "\n",
    "Dans ce tutoriel, nous allons voir comment utiliser différents outils afin de faire ce que l'on appel de la génération augmenté par rappatriement d'information.\n",
    "Nous utiliserons différents outils comme langchain, groq api, streamlit, et un roman libre de droit afin de conduire nos test.\n",
    "\n",
    "L'objectif est d'obtenir à partir du texte du roman des informations pertinentes pour la scriptualisation d'un manga à partir de ce roman.\n",
    "Ceci implique de comprendre non seulement le texte de manière conceptuelle, mais les éléments récurrents (personnage lieux etc) également."
   ]
  },
  {
   "cell_type": "code",
   "execution_count": null,
   "metadata": {},
   "outputs": [],
   "source": []
  }
 ],
 "metadata": {
  "language_info": {
   "name": "python"
  }
 },
 "nbformat": 4,
 "nbformat_minor": 2
}
